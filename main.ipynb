{
 "cells": [
  {
   "cell_type": "markdown",
   "metadata": {},
   "source": [
    "## 基本操作\n",
    "\n",
    "内置列表不可以进行运算\n",
    "numpy的就可以\n",
    "如果是array和数操作，那么就是该数字与每个元素操作\n",
    "如果是两个array操作，那么两个array必须同形状\n",
    "创建array时，所有元素必须是同一类型，如果有不同类型，会向下转换：int->float->str\n",
    "type输出类型，其它属性输出相应的参数\n",
    "切片操作普普通通，维度之间都在一个[]中，逗号分隔\n",
    "字符串叫object\n",
    "=操作实际上引用，指向的是同一个，如果希望不同，应该用copy方法"
   ]
  },
  {
   "cell_type": "code",
   "execution_count": null,
   "metadata": {},
   "outputs": [],
   "source": [
    "import numpy as np\n",
    "\n",
    "\n",
    "a = [1, 2, 3, 4, 5]\n",
    "# a += 1  # TypeError: 'int' object is not iterable\n",
    "\n",
    "a = np.array([6, 7, 8, 9, 10])\n",
    "a += 1  # [7 8 9 10 11]\n",
    "b = np.array([11, 12, 13])\n",
    "# a + b  # ValueError: operands could not be broadcast together with shapes (5,) (3,)\n",
    "\n",
    "c = np.array(a)\n",
    "d = np.array([[14, 15, 16], [17, 18, 19]])\n",
    "\n",
    "print(np.array([20, 21, '22']))\n",
    "print(np.array([23, 24, 25.0]))\n",
    "print(type(d), d.dtype, d.size, d.ndim, d.shape)\n",
    "e = np.array([[26, 27, 28], [29, 30, 31], [32, 33, 34]])\n",
    "print(e[0:2, 0:2])\n",
    "f = np.array([[0, 1, 0], [1, 0, 1], [0, 1, 0]], dtype=bool)\n",
    "print(f, e[f])\n",
    "print(e[np.random.rand(3, 3) > 0.5])\n",
    "print(e[np.where(e > 30)])\n",
    "g = np.array([35, 36, 37])\n",
    "h = np.array([38, 39, 40])\n",
    "print(g > h, np.logical_and(g, h))\n",
    "print(np.array([41, 42, 43], dtype=np.float32))\n",
    "print(np.array([44, 45, 46], dtype=object))\n",
    "print(np.asarray(e, dtype=np.float32))\n",
    "i = h  # reference\n",
    "j = h.copy()  # copy\n",
    "print(np.sum(e), np.sum(e, axis=0), np.sum(e, axis=1))\n",
    "print(np.mean(e), np.mean(e, axis=0), np.mean(e, axis=1))\n",
    "print(np.std(e), np.std(e, axis=0), np.std(e, axis=1))\n",
    "k = np.array([[1, 2], [3, 4]])\n",
    "l = np.array([[5, 6], [7, 8]])\n",
    "print(np.multiply(k, l))  # element-wise multiplication\n",
    "print(np.dot(k, l))  # matrix multiplication\n"
   ]
  },
  {
   "cell_type": "markdown",
   "metadata": {},
   "source": [
    "## 常用模块"
   ]
  },
  {
   "cell_type": "code",
   "execution_count": 54,
   "metadata": {},
   "outputs": [
    {
     "name": "stdout",
     "output_type": "stream",
     "text": [
      "[[1.3 1.5 7.5]\n",
      " [1.2 5.6 7.8]] [[1.5 1.3 1.2]\n",
      " [5.6 7.8 7.5]] [[1.3 1.5 7.5]\n",
      " [1.2 5.6 7.8]]\n",
      "[ 0.  1.  2.  3.  4.  5.  6.  7.  8.  9. 10.]\n"
     ]
    }
   ],
   "source": [
    "m = np.array([[1.5, 1.3, 7.5], [5.6, 7.8, 1.2]])\n",
    "print(np.sort(m), np.sort(m, axis=0), np.sort(m, axis=1))\n",
    "print(np.linspace(0, 10, 11))\n",
    "print(np.searchsorted())\n"
   ]
  }
 ],
 "metadata": {
  "kernelspec": {
   "display_name": "Python 3.9.12 ('base')",
   "language": "python",
   "name": "python3"
  },
  "language_info": {
   "codemirror_mode": {
    "name": "ipython",
    "version": 3
   },
   "file_extension": ".py",
   "mimetype": "text/x-python",
   "name": "python",
   "nbconvert_exporter": "python",
   "pygments_lexer": "ipython3",
   "version": "3.9.12"
  },
  "orig_nbformat": 4,
  "vscode": {
   "interpreter": {
    "hash": "c60125a99b0b7a19f933dea2eaa8c1ca527a4159ce435af81e3e12b586f3f977"
   }
  }
 },
 "nbformat": 4,
 "nbformat_minor": 2
}
